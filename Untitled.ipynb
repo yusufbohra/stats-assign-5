{
 "cells": [
  {
   "cell_type": "code",
   "execution_count": 4,
   "id": "c5c57e31-efbe-4ad1-b215-c5f2438e777e",
   "metadata": {},
   "outputs": [
    {
     "data": {
      "text/plain": [
       "'import scipy.stats as stats\\n\\nmean = 50  # Mean of the sample\\nstd_dev = 5  # Standard deviation of the sample\\nconfidence_level = 0.95  # Desired confidence level\\n\\n# Calculate the standard error\\nstandard_error = std_dev / (len(data)**0.5)\\n\\n# Calculate the margin of error\\nmargin_of_error = stats.norm.ppf((1 + confidence_level) / 2) * standard_error\\n\\n# Calculate the confidence interval\\nlower_bound = mean - margin_of_error\\nupper_bound = mean + margin_of_error\\n\\nprint(\"95% Confidence Interval:\", (lower_bound, upper_bound))'"
      ]
     },
     "execution_count": 4,
     "metadata": {},
     "output_type": "execute_result"
    }
   ],
   "source": [
    "#que 1\n",
    "\"\"\"import scipy.stats as stats\n",
    "\n",
    "mean = 50  # Mean of the sample\n",
    "std_dev = 5  # Standard deviation of the sample\n",
    "confidence_level = 0.95  # Desired confidence level\n",
    "\n",
    "# Calculate the standard error\n",
    "standard_error = std_dev / (len(data)**0.5)\n",
    "\n",
    "# Calculate the margin of error\n",
    "margin_of_error = stats.norm.ppf((1 + confidence_level) / 2) * standard_error\n",
    "\n",
    "# Calculate the confidence interval\n",
    "lower_bound = mean - margin_of_error\n",
    "upper_bound = mean + margin_of_error\n",
    "\n",
    "print(\"95% Confidence Interval:\", (lower_bound, upper_bound))\"\"\"\n",
    "\n"
   ]
  },
  {
   "cell_type": "code",
   "execution_count": 6,
   "id": "98f9a3c7-7a2e-4a99-9995-830c88ef4164",
   "metadata": {},
   "outputs": [
    {
     "data": {
      "text/plain": [
       "'import scipy.stats as stats\\n\\n# Observed frequencies of each color in the bag\\nobserved_freq = [observed_blue, observed_orange, observed_green, observed_yellow, observed_red, observed_brown]\\n\\n# Expected frequencies based on the given distribution\\nexpected_freq = [0.20, 0.20, 0.20, 0.10, 0.10, 0.20] * total_number_of_MMs_in_bag\\n\\n# Perform the chi-square goodness of fit test\\nchi_square, p_value = stats.chisquare(f_obs=observed_freq, f_exp=expected_freq)\\n\\n# Significance level\\nalpha = 0.05\\n\\n# Compare p-value with significance level\\nif p_value < alpha:\\n    print(\"Reject the null hypothesis: The distribution of colors does not match the expected distribution.\")\\nelse:\\n    print(\"Fail to reject the null hypothesis: The distribution of colors matches the expected distribution.\")\\n    \\nprint(\"Chi-square statistic:\", chi_square)\\nprint(\"P-value:\", p_value)'"
      ]
     },
     "execution_count": 6,
     "metadata": {},
     "output_type": "execute_result"
    }
   ],
   "source": [
    "#que 2\n",
    "\"\"\"import scipy.stats as stats\n",
    "\n",
    "# Observed frequencies of each color in the bag\n",
    "observed_freq = [observed_blue, observed_orange, observed_green, observed_yellow, observed_red, observed_brown]\n",
    "\n",
    "# Expected frequencies based on the given distribution\n",
    "expected_freq = [0.20, 0.20, 0.20, 0.10, 0.10, 0.20] * total_number_of_MMs_in_bag\n",
    "\n",
    "# Perform the chi-square goodness of fit test\n",
    "chi_square, p_value = stats.chisquare(f_obs=observed_freq, f_exp=expected_freq)\n",
    "\n",
    "# Significance level\n",
    "alpha = 0.05\n",
    "\n",
    "# Compare p-value with significance level\n",
    "if p_value < alpha:\n",
    "    print(\"Reject the null hypothesis: The distribution of colors does not match the expected distribution.\")\n",
    "else:\n",
    "    print(\"Fail to reject the null hypothesis: The distribution of colors matches the expected distribution.\")\n",
    "    \n",
    "print(\"Chi-square statistic:\", chi_square)\n",
    "print(\"P-value:\", p_value)\"\"\"\n",
    "\n"
   ]
  },
  {
   "cell_type": "code",
   "execution_count": 7,
   "id": "a77a9d40-5f74-44c4-a455-6dd1d172297a",
   "metadata": {},
   "outputs": [
    {
     "name": "stdout",
     "output_type": "stream",
     "text": [
      "Fail to reject the null hypothesis: There is no significant association between the outcomes and groups.\n",
      "Chi-square statistic: 5.833333333333334\n",
      "P-value: 0.05411376622282158\n"
     ]
    }
   ],
   "source": [
    "#que 3\n",
    "import numpy as np\n",
    "import scipy.stats as stats\n",
    "\n",
    "# Create the observed contingency table\n",
    "observed = np.array([[20, 15],\n",
    "                     [10, 25],\n",
    "                     [15, 20]])\n",
    "\n",
    "# Perform the chi-square test\n",
    "chi_square, p_value, dof, expected = stats.chi2_contingency(observed)\n",
    "\n",
    "# Significance level\n",
    "alpha = 0.05\n",
    "\n",
    "# Compare p-value with significance level\n",
    "if p_value < alpha:\n",
    "    print(\"Reject the null hypothesis: There is a significant association between the outcomes and groups.\")\n",
    "else:\n",
    "    print(\"Fail to reject the null hypothesis: There is no significant association between the outcomes and groups.\")\n",
    "\n",
    "print(\"Chi-square statistic:\", chi_square)\n",
    "print(\"P-value:\", p_value)\n"
   ]
  },
  {
   "cell_type": "code",
   "execution_count": 8,
   "id": "e9916e98-d929-4e77-bbce-123566462eae",
   "metadata": {},
   "outputs": [
    {
     "name": "stdout",
     "output_type": "stream",
     "text": [
      "95% Confidence Interval: (0.09151638887130707, 0.1484836111286929)\n"
     ]
    }
   ],
   "source": [
    "#que 4\n",
    "import scipy.stats as stats\n",
    "\n",
    "sample_size = 500  # Total number of individuals in the population\n",
    "observed_smokers = 60  # Number of individuals who smoke\n",
    "\n",
    "# Calculate the sample proportion\n",
    "sample_proportion = observed_smokers / sample_size\n",
    "\n",
    "# Calculate the standard error\n",
    "standard_error = (sample_proportion * (1 - sample_proportion))**0.5 / sample_size**0.5\n",
    "\n",
    "# Calculate the margin of error for a 95% confidence interval\n",
    "z_critical = stats.norm.ppf(0.975)  # For a 95% confidence interval\n",
    "margin_of_error = z_critical * standard_error\n",
    "\n",
    "# Calculate the confidence interval\n",
    "lower_bound = sample_proportion - margin_of_error\n",
    "upper_bound = sample_proportion + margin_of_error\n",
    "\n",
    "print(\"95% Confidence Interval:\", (lower_bound, upper_bound))\n"
   ]
  },
  {
   "cell_type": "code",
   "execution_count": 11,
   "id": "e5d8fa6a-5dde-460d-8d32-7bd0e58ce3ae",
   "metadata": {},
   "outputs": [
    {
     "data": {
      "text/plain": [
       "'import scipy.stats as stats\\n\\nmean = 75  # Mean of the sample\\nstd_dev = 12  # Standard deviation of the sample\\nconfidence_level = 0.90  # Desired confidence level\\n\\n# Calculate the standard error\\nstandard_error = std_dev / (len(data)**0.5)\\n\\n# Calculate the margin of error\\nmargin_of_error = stats.norm.ppf((1 + confidence_level) / 2) * standard_error\\n\\n# Calculate the confidence interval\\nlower_bound = mean - margin_of_error\\nupper_bound = mean + margin_of_error\\n\\nprint(\"90% Confidence Interval:\", (lower_bound, upper_bound))'"
      ]
     },
     "execution_count": 11,
     "metadata": {},
     "output_type": "execute_result"
    }
   ],
   "source": [
    "#que 5\n",
    "\"\"\"import scipy.stats as stats\n",
    "\n",
    "mean = 75  # Mean of the sample\n",
    "std_dev = 12  # Standard deviation of the sample\n",
    "confidence_level = 0.90  # Desired confidence level\n",
    "\n",
    "# Calculate the standard error\n",
    "standard_error = std_dev / (len(data)**0.5)\n",
    "\n",
    "# Calculate the margin of error\n",
    "margin_of_error = stats.norm.ppf((1 + confidence_level) / 2) * standard_error\n",
    "\n",
    "# Calculate the confidence interval\n",
    "lower_bound = mean - margin_of_error\n",
    "upper_bound = mean + margin_of_error\n",
    "\n",
    "print(\"90% Confidence Interval:\", (lower_bound, upper_bound))\"\"\"\n"
   ]
  },
  {
   "cell_type": "code",
   "execution_count": 10,
   "id": "789546b8-727e-4cc2-bff3-ff15363558ef",
   "metadata": {},
   "outputs": [
    {
     "data": {
      "image/png": "[encoded data removed]",
      "text/plain": [
       "<Figure size 1000x600 with 1 Axes>"
      ]
     },
     "metadata": {},
     "output_type": "display_data"
    }
   ],
   "source": [
    "#que 6\n",
    "import numpy as np\n",
    "import matplotlib.pyplot as plt\n",
    "import scipy.stats as stats\n",
    "\n",
    "# Degrees of freedom\n",
    "df = 10\n",
    "\n",
    "# Generate x values for the plot\n",
    "x = np.linspace(0, 30, 1000)\n",
    "\n",
    "# Calculate the chi-square distribution for the given degrees of freedom\n",
    "chi_square_dist = stats.chi2.pdf(x, df)\n",
    "\n",
    "# Create the plot\n",
    "plt.figure(figsize=(10, 6))\n",
    "plt.plot(x, chi_square_dist, label=f\"Chi-Square Distribution (df = {df})\")\n",
    "\n",
    "# Shade the area corresponding to a chi-square statistic of 15\n",
    "x_shaded = np.linspace(15, 30, 1000)\n",
    "y_shaded = stats.chi2.pdf(x_shaded, df)\n",
    "plt.fill_between(x_shaded, y_shaded, color='blue', alpha=0.3, label=\"Shaded Area (χ² < 15)\")\n",
    "\n",
    "# Label the axes\n",
    "plt.xlabel(\"Chi-Square Statistic\")\n",
    "plt.ylabel(\"Probability Density Function\")\n",
    "plt.title(\"Chi-Square Distribution\")\n",
    "plt.legend()\n",
    "\n",
    "plt.show()\n"
   ]
  },
  {
   "cell_type": "code",
   "execution_count": 12,
   "id": "32a046ce-70ab-4237-8fb4-f7f88ba649d8",
   "metadata": {},
   "outputs": [
    {
     "name": "stdout",
     "output_type": "stream",
     "text": [
      "99% Confidence Interval: (0.4793051576779699, 0.5606948423220302)\n"
     ]
    }
   ],
   "source": [
    "#que 7\n",
    "import scipy.stats as stats\n",
    "\n",
    "sample_size = 1000  # Total number of people in the sample\n",
    "observed_preferred_coke = 520  # Number of people who preferred Coke\n",
    "\n",
    "# Calculate the sample proportion\n",
    "sample_proportion = observed_preferred_coke / sample_size\n",
    "\n",
    "# Calculate the standard error\n",
    "standard_error = (sample_proportion * (1 - sample_proportion))**0.5 / sample_size**0.5\n",
    "\n",
    "# Calculate the margin of error for a 99% confidence interval\n",
    "z_critical = stats.norm.ppf(0.995)  # For a 99% confidence interval\n",
    "margin_of_error = z_critical * standard_error\n",
    "\n",
    "# Calculate the confidence interval\n",
    "lower_bound = sample_proportion - margin_of_error\n",
    "upper_bound = sample_proportion + margin_of_error\n",
    "\n",
    "print(\"99% Confidence Interval:\", (lower_bound, upper_bound))\n"
   ]
  },
  {
   "cell_type": "code",
   "execution_count": 14,
   "id": "2b3f6dd1-1e6d-4584-a5ae-7ee97a419f72",
   "metadata": {},
   "outputs": [
    {
     "data": {
      "text/plain": [
       "'import scipy.stats as stats\\n\\nobserved_tails = 45  # Observed number of tails\\ntotal_flips = 100  # Total number of coin flips\\n\\nexpected_heads = total_flips / 2  # Expected number of heads for a fair coin\\nexpected_tails = total_flips / 2  # Expected number of tails for a fair coin\\n\\nobserved_freq = [observed_heads, observed_tails]\\nexpected_freq = [expected_heads, expected_tails]\\n\\n# Perform the chi-square goodness of fit test\\nchi_square, p_value = stats.chisquare(f_obs=observed_freq, f_exp=expected_freq)\\n\\n# Significance level\\nalpha = 0.05\\n\\n# Compare p-value with significance level\\nif p_value < alpha:\\n    print(\"Reject the null hypothesis: The coin is biased towards tails.\")\\nelse:\\n    print(\"Fail to reject the null hypothesis: The coin is not significantly biased.\")\\n\\nprint(\"Chi-square statistic:\", chi_square)\\nprint(\"P-value:\", p_value)'"
      ]
     },
     "execution_count": 14,
     "metadata": {},
     "output_type": "execute_result"
    }
   ],
   "source": [
    "#que 8\n",
    "\"\"\"import scipy.stats as stats\n",
    "\n",
    "observed_tails = 45  # Observed number of tails\n",
    "total_flips = 100  # Total number of coin flips\n",
    "\n",
    "expected_heads = total_flips / 2  # Expected number of heads for a fair coin\n",
    "expected_tails = total_flips / 2  # Expected number of tails for a fair coin\n",
    "\n",
    "observed_freq = [observed_heads, observed_tails]\n",
    "expected_freq = [expected_heads, expected_tails]\n",
    "\n",
    "# Perform the chi-square goodness of fit test\n",
    "chi_square, p_value = stats.chisquare(f_obs=observed_freq, f_exp=expected_freq)\n",
    "\n",
    "# Significance level\n",
    "alpha = 0.05\n",
    "\n",
    "# Compare p-value with significance level\n",
    "if p_value < alpha:\n",
    "    print(\"Reject the null hypothesis: The coin is biased towards tails.\")\n",
    "else:\n",
    "    print(\"Fail to reject the null hypothesis: The coin is not significantly biased.\")\n",
    "\n",
    "print(\"Chi-square statistic:\", chi_square)\n",
    "print(\"P-value:\", p_value)\"\"\"\n"
   ]
  },
  {
   "cell_type": "code",
   "execution_count": 15,
   "id": "554d6e72-ed32-46ae-bb5e-f07672eb95fa",
   "metadata": {},
   "outputs": [
    {
     "name": "stdout",
     "output_type": "stream",
     "text": [
      "Fail to reject the null hypothesis: There is no significant association between smoking status and lung cancer diagnosis.\n",
      "Chi-square statistic: 5.833333333333334\n",
      "P-value: 0.05411376622282158\n"
     ]
    }
   ],
   "source": [
    "#que 9\n",
    "import numpy as np\n",
    "import scipy.stats as stats\n",
    "\n",
    "# Create the observed contingency table\n",
    "observed = np.array([[20, 15],\n",
    "                     [10, 25],\n",
    "                     [15, 20]])\n",
    "\n",
    "# Perform the chi-square test for independence\n",
    "chi_square, p_value, dof, expected = stats.chi2_contingency(observed)\n",
    "\n",
    "# Significance level\n",
    "alpha = 0.05\n",
    "\n",
    "# Compare p-value with significance level\n",
    "if p_value < alpha:\n",
    "    print(\"Reject the null hypothesis: There is a significant association between smoking status and lung cancer diagnosis.\")\n",
    "else:\n",
    "    print(\"Fail to reject the null hypothesis: There is no significant association between smoking status and lung cancer diagnosis.\")\n",
    "\n",
    "print(\"Chi-square statistic:\", chi_square)\n",
    "print(\"P-value:\", p_value)\n"
   ]
  },
  {
   "cell_type": "code",
   "execution_count": null,
   "id": "dcc56beb-283b-4e39-a08e-1b462d91a88c",
   "metadata": {},
   "outputs": [],
   "source": [
    "#que 10\n"
   ]
  }
 ],
 "metadata": {
  "kernelspec": {
   "display_name": "Python 3 (ipykernel)",
   "language": "python",
   "name": "python3"
  },
  "language_info": {
   "codemirror_mode": {
    "name": "ipython",
    "version": 3
   },
   "file_extension": ".py",
   "mimetype": "text/x-python",
   "name": "python",
   "nbconvert_exporter": "python",
   "pygments_lexer": "ipython3",
   "version": "3.10.8"
  }
 },
 "nbformat": 4,
 "nbformat_minor": 5
}
